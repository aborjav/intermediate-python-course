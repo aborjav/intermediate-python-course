{
  "nbformat": 4,
  "nbformat_minor": 0,
  "metadata": {
    "colab": {
      "provenance": [],
      "authorship_tag": "ABX9TyP4IMCXq2ur3KwkDHmoZ2ss",
      "include_colab_link": true
    },
    "kernelspec": {
      "name": "python3",
      "display_name": "Python 3"
    },
    "language_info": {
      "name": "python"
    }
  },
  "cells": [
    {
      "cell_type": "markdown",
      "metadata": {
        "id": "view-in-github",
        "colab_type": "text"
      },
      "source": [
        "<a href=\"https://colab.research.google.com/github/aborjav/intermediate-python-course/blob/master/Q1.3.ipynb\" target=\"_parent\"><img src=\"https://colab.research.google.com/assets/colab-badge.svg\" alt=\"Open In Colab\"/></a>"
      ]
    },
    {
      "cell_type": "code",
      "execution_count": 6,
      "metadata": {
        "colab": {
          "base_uri": "https://localhost:8080/"
        },
        "id": "5Tzj1-FJGpJA",
        "outputId": "cb124fbb-b851-4dbd-f591-2d818c84aa46"
      },
      "outputs": [
        {
          "output_type": "stream",
          "name": "stdout",
          "text": [
            "Predicted label for k = 3: 1\n",
            "Predicted label for k = 5: 0\n"
          ]
        }
      ],
      "source": [
        "from collections import Counter\n",
        "\n",
        "def knn_classify(X_train, y_train, x_query, k):\n",
        "\n",
        "    distances = []\n",
        "\n",
        "    for i, x_train_point in enumerate(X_train):\n",
        "        # Calculate Euclidean distance for the current training point and x_query\n",
        "        sum = 0\n",
        "        for j in range(len(x_query)):\n",
        "            sum += (x_train_point[j] - x_query[j])**2 #Sum\n",
        "\n",
        "        distance = sum**0.5 #Suare root\n",
        "\n",
        "        distances.append((distance, y_train[i])) #Store (distance, label)\n",
        "\n",
        "    #Sort the list of (distance, label) tuples by distance\n",
        "    distances.sort(key=lambda x: x[0])\n",
        "\n",
        "    #Get the labels of the k nearest neighbors\n",
        "    k_nearest_neighbors_labels = [label for distance, label in distances[:k]]\n",
        "\n",
        "    #Perform majority voting using Counter\n",
        "    label_counts = Counter(k_nearest_neighbors_labels)\n",
        "\n",
        "    #Get the most common label\n",
        "    #Counter.most_common(1) returns a list of (element, count) tuples, e.g., [('label_val', count)]\n",
        "    predicted_label = label_counts.most_common(1)[0][0]\n",
        "\n",
        "    return predicted_label\n",
        "\n",
        "#Excersice\n",
        "X_train_data = [\n",
        "    [1, 2],\n",
        "    [2, 3],\n",
        "    [3, 1],\n",
        "    [6, 5],\n",
        "    [7, 7]\n",
        "]\n",
        "y_train_labels = [0, 0, 0, 1, 1]\n",
        "x_query_point = [5, 5]\n",
        "\n",
        "#k = 3\n",
        "k_val_3 = 3\n",
        "predicted_label_k3 = knn_classify(X_train_data, y_train_labels, x_query_point, k_val_3)\n",
        "print(f\"Predicted label for k = {k_val_3}: {predicted_label_k3}\")\n",
        "\n",
        "#k = 5\n",
        "k_val_5 = 5\n",
        "predicted_label_k5 = knn_classify(X_train_data, y_train_labels, x_query_point, k_val_5)\n",
        "print(f\"Predicted label for k = {k_val_5}: {predicted_label_k5}\")"
      ]
    }
  ]
}