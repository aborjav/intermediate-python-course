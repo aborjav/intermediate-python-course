{
  "nbformat": 4,
  "nbformat_minor": 0,
  "metadata": {
    "colab": {
      "provenance": [],
      "authorship_tag": "ABX9TyPJtcf+/6JbJNNKyox2uyj+",
      "include_colab_link": true
    },
    "kernelspec": {
      "name": "python3",
      "display_name": "Python 3"
    },
    "language_info": {
      "name": "python"
    }
  },
  "cells": [
    {
      "cell_type": "markdown",
      "metadata": {
        "id": "view-in-github",
        "colab_type": "text"
      },
      "source": [
        "<a href=\"https://colab.research.google.com/github/aborjav/intermediate-python-course/blob/master/MLAssment2Q1.3.ipynb\" target=\"_parent\"><img src=\"https://colab.research.google.com/assets/colab-badge.svg\" alt=\"Open In Colab\"/></a>"
      ]
    },
    {
      "cell_type": "code",
      "execution_count": 1,
      "metadata": {
        "colab": {
          "base_uri": "https://localhost:8080/"
        },
        "id": "5Tzj1-FJGpJA",
        "outputId": "0c302967-528a-4d28-cd6e-6da38fa14156"
      },
      "outputs": [
        {
          "output_type": "stream",
          "name": "stdout",
          "text": [
            "Predicted label for k = 3: 1\n",
            "Predicted label for k = 5: 0\n"
          ]
        }
      ],
      "source": [
        "import numpy as np\n",
        "from collections import Counter\n",
        "\n",
        "def euclidean_distance(point1, point2):\n",
        "    \"\"\"Calculates the Euclidean distance between two points.\"\"\"\n",
        "    return np.sqrt(np.sum((np.array(point1) - np.array(point2))**2))\n",
        "\n",
        "def knn_classify(X_train, y_train, x_query, k):\n",
        "    \"\"\"\n",
        "    Implements a k-NN classifier.\n",
        "\n",
        "    Args:\n",
        "        X_train (list of lists or numpy array): Training data features.\n",
        "        y_train (list or numpy array): Training data labels.\n",
        "        x_query (list or numpy array): The query point for prediction.\n",
        "        k (int): The number of nearest neighbors to consider.\n",
        "\n",
        "    Returns:\n",
        "        int or str: The predicted label for x_query.\n",
        "    \"\"\"\n",
        "    distances = []\n",
        "    for i, x_train_point in enumerate(X_train):\n",
        "        dist = euclidean_distance(x_train_point, x_query)\n",
        "        distances.append((dist, y_train[i])) # Store (distance, label)\n",
        "\n",
        "    # Sort by distance\n",
        "    distances.sort(key=lambda x: x[0])\n",
        "\n",
        "    # Get the k nearest neighbors' labels\n",
        "    k_nearest_neighbors_labels = [label for dist, label in distances[:k]]\n",
        "\n",
        "    # Perform majority voting\n",
        "    label_counts = Counter(k_nearest_neighbors_labels)\n",
        "    predicted_label = label_counts.most_common(1)[0][0]\n",
        "\n",
        "    return predicted_label\n",
        "\n",
        "# Given data\n",
        "X_train = np.array([\n",
        "    [1, 2],\n",
        "    [2, 3],\n",
        "    [3, 1],\n",
        "    [6, 5],\n",
        "    [7, 7]\n",
        "])\n",
        "y_train = np.array([0, 0, 0, 1, 1])\n",
        "x_query = np.array([5, 5])\n",
        "\n",
        "# Test with k = 3\n",
        "predicted_label_k3 = knn_classify(X_train, y_train, x_query, k=3)\n",
        "print(f\"Predicted label for k = 3: {predicted_label_k3}\")\n",
        "\n",
        "# Test with k = 5\n",
        "predicted_label_k5 = knn_classify(X_train, y_train, x_query, k=5)\n",
        "print(f\"Predicted label for k = 5: {predicted_label_k5}\")"
      ]
    }
  ]
}